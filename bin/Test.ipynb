{
 "cells": [
  {
   "cell_type": "code",
   "execution_count": 3,
   "metadata": {},
   "outputs": [],
   "source": [
    "#External functions\n",
    "%run draw_funcs.py\n",
    "%run Kepler.py\n",
    "#import modules\n",
    "import sys, os, platform\n",
    "import APC as APC\n",
    "import plotly.graph_objects as go\n",
    "import numpy as np\n",
    "from IPython.display import display, Math, Latex\n",
    "\n",
    "if platform.system()==\"Windows\":\n",
    "    #avert render bug in windows 10\n",
    "    import plotly.offline as pyo\n",
    "    pyo.init_notebook_mode()"
   ]
  },
  {
   "cell_type": "code",
   "execution_count": 4,
   "metadata": {},
   "outputs": [
    {
     "data": {
      "text/plain": [
       "(8, 6.125343292)"
      ]
     },
     "execution_count": 4,
     "metadata": {},
     "output_type": "execute_result"
    }
   ],
   "source": [
    "APC.Benchmark1000(8)"
   ]
  },
  {
   "cell_type": "code",
   "execution_count": 5,
   "metadata": {},
   "outputs": [],
   "source": [
    "def out2breaks(output):\n",
    "    Ts = output.getTimes()\n",
    "    Xs = output.getPosition()\n",
    "    Vs = output.getVelocity()\n",
    "    #Segment orbits into individual revolutions of the Earth\n",
    "    prev_y=0.0\n",
    "    orbit_breaks =[0]\n",
    "    for i,y in enumerate(Xs[1]):\n",
    "        if prev_y<0 and y>0:\n",
    "            orbit_breaks.append(i)\n",
    "        prev_y = y\n",
    "    orbits_x = []\n",
    "    orbits_y = []\n",
    "    orbits_t = []\n",
    "    for i,start in enumerate(orbit_breaks[0:-1]):\n",
    "        if not start==0:\n",
    "            start=start-1\n",
    "        end = orbit_breaks[i+1]+1\n",
    "        orbits_x.append(Xs[0][start:end])\n",
    "        orbits_y.append(Xs[1][start:end])\n",
    "        orbits_t.append(Ts[start:end])\n",
    "\n",
    "    #find orbital elements at each time step\n",
    "    elms = np.zeros((len(orbit_breaks),10))\n",
    "    ts = np.zeros(len(orbit_breaks))\n",
    "    for i,ind in enumerate(orbit_breaks):\n",
    "        x = np.array([Xs[0][ind],Xs[1][ind],Xs[2][ind]])\n",
    "        v = np.array([Vs[0][ind],Vs[1][ind],Vs[2][ind]])\n",
    "        elms[i,:] = rv2elm(x,v,muEarth)\n",
    "        #[p, a, e, i, Om, w, f, E, M, s]\n",
    "\n",
    "    return [orbits_x, orbits_y, orbits_t, elms] "
   ]
  },
  {
   "cell_type": "code",
   "execution_count": 6,
   "metadata": {},
   "outputs": [
    {
     "name": "stdout",
     "output_type": "stream",
     "text": [
      "[8000.    0.    0.]\n",
      "[-0.          3.23468895  6.46939235]\n",
      "7690.610095766187\n"
     ]
    }
   ],
   "source": [
    "#LEO high eccentricity\n",
    "q = 8000\n",
    "e = .05\n",
    "a = q/(1-e)\n",
    "i = 63.435*np.pi/180\n",
    "r0,v0 = elms2rv(a,e,i,0,0,0,muEarth)\n",
    "T = 2*np.pi*np.sqrt(a**3/muEarth)\n",
    "t0 = 0.0\n",
    "tf = 10*T\n",
    "#LEO\n",
    "# r0 = [6500, 0.0, 0.0];                                    # Initial Position (km)\n",
    "# v0 = (0, 7.8309, 0.0);                              # Initial Velocity (km/s)\n",
    "# t0 = 0.0;                                                 # Initial Times (s)\n",
    "# T = np.pi*np.sqrt(6500*3/muEarth)\n",
    "# tf = 100*T;                                     # Final Time (s)\n",
    "# #MEO\n",
    "# r0 = [9000.0, 0.0, 0.0];                                    # Initial Position (km)\n",
    "# v0 = [0.0, 6.7419845635570, 1.806509319188210];             # Initial Velocity (km/s)\n",
    "# t0 = 0.0;                                                   # Initial Times (s)\n",
    "# tf = 10*9.952014050491189e+03;                              # Final Time (s)\n",
    "\n",
    "#sat props\n",
    "mass = 1000;\n",
    "area = 10;\n",
    "reflectance = 1.5;\n",
    "Cd = 2.0;\n",
    "\n",
    "# #run APC code in single orbit mode with and without perturbations\n",
    "output = APC.SinglePropagate(r0,v0,t0,tf,area,reflectance,mass,Cd,False,False,False)\n",
    "dragoutput = APC.SinglePropagate(r0,v0,t0,tf,area,reflectance,mass,Cd,True,True,True)\n",
    "\n",
    "print(r0)\n",
    "print(v0)\n",
    "print(T)"
   ]
  },
  {
   "cell_type": "code",
   "execution_count": 5,
   "metadata": {},
   "outputs": [],
   "source": [
    "#Run parallel propagations\n",
    "# statelist = APC.GenSigma13(r0,v0,10,.1)\n",
    "# Orbits = APC.ParallelPropagate(statelist,t0,tf,area,reflectance,mass,Cd,True,True,True)"
   ]
  },
  {
   "cell_type": "code",
   "execution_count": null,
   "metadata": {},
   "outputs": [],
   "source": [
    "fig = plotOrbit(output)\n",
    "fig.show()\n",
    "camera = dict(\n",
    "    up=dict(x=0, y=0, z=1),\n",
    "    eye=dict(x=.08, y=-.1, z=.05),\n",
    "    center=dict(x=0,y=0,z=0)\n",
    ")\n",
    "diff = 6378\n",
    "x0 = 8000\n",
    "y0 = 0\n",
    "z0 = 0\n",
    "fig.update_layout(\n",
    "    scene=dict(\n",
    "    aspectmode = \"cube\",\n",
    "    xaxis=dict(range=[x0-diff,x0+diff]),\n",
    "    yaxis=dict(range=[y0-diff,y0+diff]),\n",
    "    zaxis=dict(range=[z0-diff,z0+diff])),\n",
    "    scene_camera=camera, \n",
    "    title=\"Initial Position Close-up\")\n",
    "fig.show()\n"
   ]
  },
  {
   "cell_type": "code",
   "execution_count": null,
   "metadata": {},
   "outputs": [],
   "source": [
    "orbits_x, orbits_y,orbits_t, elms = out2breaks(output)\n",
    "drag_x, drag_y,drag_t, dragelms = out2breaks(dragoutput)"
   ]
  },
  {
   "cell_type": "code",
   "execution_count": null,
   "metadata": {},
   "outputs": [],
   "source": [
    "\"\"\"Plot topdown view\"\"\"\n",
    "trace2d = go.Scatter(x=output.getPositionX(),y=output.getPositionY(),mode = 'lines')\n",
    "trace2 = plot_circle(6378)\n",
    "fig2d = go.Figure(data=[trace2d,trace2])\n",
    "fig2d.layout.xaxis.range=(-42500,8500)\n",
    "fig2d.layout.yaxis.range=(-20000,20000)\n",
    "fig2d.update_layout(\n",
    "    autosize = False,\n",
    "    width = 600,\n",
    "    showlegend=False,\n",
    "    xaxis_constrain = 'domain',\n",
    "    yaxis_scaleanchor= 'x',\n",
    "    margin=dict(l=10, r=10, t=10, b=10))\n",
    "fig2d.show()\n"
   ]
  },
  {
   "cell_type": "code",
   "execution_count": null,
   "metadata": {},
   "outputs": [],
   "source": [
    "import plotly.graph_objs as go\n",
    "import plotly.offline as py\n",
    "import plotly\n",
    "\n",
    "from ipywidgets import interactive, HBox, VBox, widgets, interact\n",
    "\n",
    "py.init_notebook_mode()\n",
    "Xs = output.getPosition()\n",
    "clamp = 10000\n",
    "# load fig\n",
    "fig = fig2d\n",
    "# create FigureWidget from fig\n",
    "f = go.FigureWidget(data=fig.data, layout=fig.layout)\n",
    "f.add_trace(plot_circle(6378,opacity=1))\n",
    "xmin = max(min(min(Xs[0]),-8000),-clamp)\n",
    "ymin = max(min(min(Xs[1]),-8000),-clamp)\n",
    "ymax = min(max(max(Xs[1]),8000),clamp)\n",
    "xmax = min(max(max(Xs[0]),8000),clamp)\n",
    "f.layout.yaxis.range=[ymin,ymax]\n",
    "f.layout.xaxis.range=[xmin,xmax]\n",
    "f.layout.xaxis.title=\"X (km)\"\n",
    "f.layout.yaxis.title=\"Y (km)\"\n",
    "f.layout.title = \"77 Deg Gravity Polar View Nodal Precession t={:.2f} hours<br><sup>a={}, e={}, i={}</sup>\".format(0,a,e,180*i/np.pi)\n",
    "f.update_layout(title_x=0.5)\n",
    "f.layout.margin=dict(l=20,r=20,t=60,b=20)\n",
    "f.layout.height = 800\n",
    "f.layout.width = 800\n",
    "\n",
    "slider = widgets.IntSlider(\n",
    "    min=0,\n",
    "    max=len(orbits_y)-1,\n",
    "    step=1,\n",
    "    readout=True,\n",
    "    description='Orbit')\n",
    "slider.layout.width = '800px'\n",
    "\n",
    "# our function that will modify the xaxis range\n",
    "def update_range(y):\n",
    "    f.plotly_restyle({'x':[orbits_x[y]],'y':[orbits_y[y]]},0)\n",
    "    f.layout.yaxis.range=[ymin,ymax]\n",
    "    f.layout.xaxis.range=[xmin,xmax]\n",
    "    title = \"77 Deg Gravity Polar View Nodal Precession t={:.2f} hours<br><sup>a={:.2f} km, e={:.3f}, i={:.2f}°</sup>\".format(orbits_t[y][0]/3600,a,e,i*180/np.pi)\n",
    "    f.update_layout(title_text = title, title_x=0.5)\n",
    "    f.show\n",
    "    \n",
    "vb = VBox((f, interactive(update_range,y=slider)))\n",
    "vb.layout.align_items = 'flex-start'\n",
    "vb"
   ]
  },
  {
   "cell_type": "code",
   "execution_count": null,
   "metadata": {},
   "outputs": [],
   "source": [
    "save_image=False\n",
    "if not os.path.exists(\"images\"):\n",
    "        os.mkdir(\"images\")\n",
    "\n",
    "for k in np.arange(0,len(orbits_y)):\n",
    "    update_range(k)\n",
    "    if save_image:\n",
    "        f.write_image('images/fig{}.png'.format(k))"
   ]
  }
 ],
 "metadata": {
  "kernelspec": {
   "display_name": "Python 3.8.2 ('python38')",
   "language": "python",
   "name": "python3"
  },
  "language_info": {
   "codemirror_mode": {
    "name": "ipython",
    "version": 3
   },
   "file_extension": ".py",
   "mimetype": "text/x-python",
   "name": "python",
   "nbconvert_exporter": "python",
   "pygments_lexer": "ipython3",
   "version": "3.8.2"
  },
  "orig_nbformat": 4,
  "vscode": {
   "interpreter": {
    "hash": "954d93875deac704dba7ad356958466ca6ab62675dc5f65d8eb8153770450085"
   }
  }
 },
 "nbformat": 4,
 "nbformat_minor": 2
}
