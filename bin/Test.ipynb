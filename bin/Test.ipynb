{
 "cells": [
  {
   "cell_type": "code",
   "execution_count": null,
   "metadata": {},
   "outputs": [],
   "source": [
    "#External functions\n",
    "%run -i draw_funcs.py\n",
    "%run -i Kepler.py\n",
    "#import modules\n",
    "import sys, os\n",
    "import APC as APyC\n",
    "import plotly.graph_objects as go\n",
    "import numpy as np\n",
    "from IPython.display import display, Math, Latex"
   ]
  },
  {
   "cell_type": "code",
   "execution_count": null,
   "metadata": {},
   "outputs": [],
   "source": [
    "os.environ['OMP_NUM_THREADS']=str(8)"
   ]
  },
  {
   "cell_type": "code",
   "execution_count": null,
   "metadata": {},
   "outputs": [],
   "source": [
    "def out2breaks(output):\n",
    "    Ts = output.getTimes()\n",
    "    Xs = output.getPosition()\n",
    "    Vs = output.getVelocity()\n",
    "    #Segment orbits into individual revolutions of the Earth\n",
    "    prev_y=0.0\n",
    "    orbit_breaks =[0]\n",
    "    for i,y in enumerate(Xs[1]):\n",
    "        if prev_y<0 and y>0:\n",
    "            orbit_breaks.append(i)\n",
    "        prev_y = y\n",
    "    orbits_x = []\n",
    "    orbits_y = []\n",
    "    for i,start in enumerate(orbit_breaks[0:-1]):\n",
    "        if not start==0:\n",
    "            start=start-1\n",
    "        end = orbit_breaks[i+1]+1\n",
    "        orbits_x.append(Xs[0][start:end])\n",
    "        orbits_y.append(Xs[1][start:end])\n",
    "\n",
    "    #find orbital elements at each time step\n",
    "    elms = np.zeros((len(orbit_breaks),10))\n",
    "    ts = np.zeros(len(orbit_breaks))\n",
    "    for i,ind in enumerate(orbit_breaks):\n",
    "        x = np.array([Xs[0][ind],Xs[1][ind],Xs[2][ind]])\n",
    "        v = np.array([Vs[0][ind],Vs[1][ind],Vs[2][ind]])\n",
    "        elms[i,:] = rv2elm(x,v,muEarth)\n",
    "        #[p, a, e, i, Om, w, f, E, M, s]\n",
    "\n",
    "    return [orbits_x, orbits_y, elms] "
   ]
  },
  {
   "cell_type": "code",
   "execution_count": null,
   "metadata": {},
   "outputs": [],
   "source": [
    "#LEO high eccentricity\n",
    "p = 8000\n",
    "e = 1-8/25\n",
    "a = p/(1-e)\n",
    "r0,v0 = elms2rv(a,e,0,0,0,0,muEarth)\n",
    "T = 2*np.pi*np.sqrt(a**3/muEarth)\n",
    "t0 = 0\n",
    "tf = 5*T\n",
    "#LEO\n",
    "# r0 = [6500, 0.0, 0.0];                                    # Initial Position (km)\n",
    "# v0 = (0, 7.8309, 0.0);                              # Initial Velocity (km/s)\n",
    "# t0 = 0.0;                                                 # Initial Times (s)\n",
    "# T = np.pi*np.sqrt(6500*3/muEarth)\n",
    "# tf = 100*T;                                     # Final Time (s)\n",
    "# #MEO\n",
    "# r0 = [9000.0, 0.0, 0.0];                                    # Initial Position (km)\n",
    "# v0 = [0.0, 6.7419845635570, 1.806509319188210];             # Initial Velocity (km/s)\n",
    "# t0 = 0.0;                                                   # Initial Times (s)\n",
    "# tf = 10*9.952014050491189e+03;                              # Final Time (s)\n",
    "\n",
    "#sat props\n",
    "mass = 1000;\n",
    "area = 10;\n",
    "reflectance = 1.5;\n",
    "Cd = 2.0;\n",
    "\n",
    "#run APC code in single orbit mode with and without perturbations\n",
    "output = APyC.SinglePropagate(r0,v0,t0,tf,area,reflectance,mass,Cd,False,False,False)\n",
    "dragoutput = APyC.SinglePropagate(r0,v0,t0,tf,area,reflectance,mass,Cd,True,True,True)\n",
    "\n"
   ]
  },
  {
   "cell_type": "code",
   "execution_count": null,
   "metadata": {},
   "outputs": [],
   "source": [
    "#Run parallel propagations\n",
    "statelist = APyC.GenSigma13(r0,v0,10,.1)\n",
    "Orbits = APyC.ParallelPropagate(statelist,t0,tf,area,reflectance,mass,Cd,True,True,True)"
   ]
  },
  {
   "cell_type": "code",
   "execution_count": null,
   "metadata": {},
   "outputs": [],
   "source": [
    "fig = plotMultiOrbits(Orbits)\n",
    "fig.show()\n",
    "camera = dict(\n",
    "    up=dict(x=0, y=0, z=1),\n",
    "    eye=dict(x=.08, y=-.1, z=.05),\n",
    "    center=dict(x=0,y=0,z=0)\n",
    ")\n",
    "diff = 6378\n",
    "x0 = 8000\n",
    "y0 = 0\n",
    "z0 = 0\n",
    "fig.update_layout(\n",
    "    scene=dict(\n",
    "    aspectmode = \"cube\",\n",
    "    xaxis=dict(range=[x0-diff,x0+diff]),\n",
    "    yaxis=dict(range=[y0-diff,y0+diff]),\n",
    "    zaxis=dict(range=[z0-diff,z0+diff])),\n",
    "    scene_camera=camera, \n",
    "    title=\"Initial Position Close-up\")\n",
    "fig.show()\n"
   ]
  },
  {
   "cell_type": "code",
   "execution_count": null,
   "metadata": {},
   "outputs": [],
   "source": []
  },
  {
   "cell_type": "code",
   "execution_count": null,
   "metadata": {},
   "outputs": [],
   "source": [
    "orbits_x, orbits_y, elms = out2breaks(output)\n",
    "drag_x, drag_y, dragelms = out2breaks(dragoutput)"
   ]
  },
  {
   "cell_type": "code",
   "execution_count": null,
   "metadata": {},
   "outputs": [],
   "source": [
    "\"\"\"Plot topdown view\"\"\"\n",
    "trace2d = go.Scatter(x=output.getPositionX(),y=output.getPositionY(),mode = 'lines')\n",
    "trace2 = plot_circle(6378)\n",
    "fig2d = go.Figure(data=[trace2d,trace2])\n",
    "fig2d.layout.xaxis.range=(-42500,8500)\n",
    "fig2d.layout.yaxis.range=(-20000,20000)\n",
    "fig2d.update_layout(\n",
    "    autosize = False,\n",
    "    width = 600,\n",
    "    showlegend=False,\n",
    "    xaxis_constrain = 'domain',\n",
    "    yaxis_scaleanchor= 'x',\n",
    "    margin=dict(l=10, r=10, t=10, b=10))\n",
    "fig2d.show()\n"
   ]
  },
  {
   "cell_type": "code",
   "execution_count": null,
   "metadata": {},
   "outputs": [],
   "source": [
    "import plotly.graph_objs as go\n",
    "import plotly.offline as py\n",
    "import plotly\n",
    "\n",
    "from ipywidgets import interactive, HBox, VBox, widgets, interact\n",
    "\n",
    "py.init_notebook_mode()\n",
    "Xs = dragoutput.getPosition()\n",
    "clamp = 10000\n",
    "# load fig\n",
    "fig = fig2d\n",
    "# create FigureWidget from fig\n",
    "f = go.FigureWidget(data=fig.data, layout=fig.layout)\n",
    "f.add_trace(plot_circle(6378))\n",
    "xmin = max(min(Xs[0]),-clamp)\n",
    "ymin = max(min(Xs[1]),-clamp)\n",
    "ymax = min(max(Xs[1]),clamp)\n",
    "xmax = min(max(Xs[0]),clamp)\n",
    "f.layout.yaxis.range=[ymin,ymax]\n",
    "f.layout.xaxis.range=[xmin,xmax]\n",
    "\n",
    "slider = widgets.IntSlider(\n",
    "    min=1,\n",
    "    max=len(orbits_y)-1,\n",
    "    step=1,\n",
    "    readout=True,\n",
    "    description='Orbit')\n",
    "slider.layout.width = '800px'\n",
    "\n",
    "# our function that will modify the xaxis range\n",
    "def update_range(y):\n",
    "    f.plotly_restyle({'x':[drag_x[y]],'y':[drag_y[y]]},0)\n",
    "    f.show\n",
    "\n",
    "\n",
    "# display the FigureWidget and slider with center justification\n",
    "vb = VBox((f, interactive(update_range,y=slider)))\n",
    "vb.layout.align_items = 'flex-start'\n",
    "vb"
   ]
  }
 ],
 "metadata": {
  "interpreter": {
   "hash": "69a904da6b75d97a9efd6ce7445607deb5e1021c1bb81e5a4391199317e4e4d0"
  },
  "kernelspec": {
   "display_name": "Python 3.8.8 64-bit ('base': conda)",
   "language": "python",
   "name": "python3"
  },
  "language_info": {
   "codemirror_mode": {
    "name": "ipython",
    "version": 3
   },
   "file_extension": ".py",
   "mimetype": "text/x-python",
   "name": "python",
   "nbconvert_exporter": "python",
   "pygments_lexer": "ipython3",
   "version": "3.8.8"
  },
  "orig_nbformat": 4
 },
 "nbformat": 4,
 "nbformat_minor": 2
}
