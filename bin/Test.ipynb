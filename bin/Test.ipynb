{
 "cells": [
  {
   "cell_type": "code",
   "execution_count": 1,
   "metadata": {},
   "outputs": [],
   "source": [
    "import APC as APyC\n",
    "import plotly.graph_objects as go\n",
    "import numpy as np"
   ]
  },
  {
   "cell_type": "code",
   "execution_count": 1,
   "metadata": {},
   "outputs": [],
   "source": [
    "def spheres(size,pos=[0,0,0],res=100):\n",
    "    #angular coordinates\n",
    "    theta = np.linspace(0,2*np.pi,res)\n",
    "    phi = np.linspace(0,np.pi,res)\n",
    "    #cartesian coordinates\n",
    "    x0 = pos[0]+size*np.outer(np.cos(theta),np.sin(phi))\n",
    "    y0 = pos[1]+size*np.outer(np.sin(theta),np.sin(phi))\n",
    "    z0 = pos[2]+size*np.outer(np.ones(res),np.cos(phi))\n",
    "\n",
    "    return x0,y0,z0\n",
    "\n",
    "def plot_sphere(size,color='blue',opacity=0.3,pos=[0,0,0],res=100):\n",
    "    x,y,z = spheres(size,pos,res)\n",
    "    trace = go.Surface(x=x,y=y,z=z,colorscale=[[0,color],[1,color]],opacity=opacity,showscale=False)\n",
    "    return trace"
   ]
  },
  {
   "cell_type": "code",
   "execution_count": 2,
   "metadata": {},
   "outputs": [
    {
     "ename": "NameError",
     "evalue": "name 'APyC' is not defined",
     "output_type": "error",
     "traceback": [
      "\u001b[1;31m---------------------------------------------------------------------------\u001b[0m",
      "\u001b[1;31mNameError\u001b[0m                                 Traceback (most recent call last)",
      "\u001b[1;32m<ipython-input-2-ff01872fdd70>\u001b[0m in \u001b[0;36m<module>\u001b[1;34m\u001b[0m\n\u001b[0;32m     11\u001b[0m \u001b[1;33m\u001b[0m\u001b[0m\n\u001b[0;32m     12\u001b[0m \u001b[1;31m#run APC code and save to textfile\u001b[0m\u001b[1;33m\u001b[0m\u001b[1;33m\u001b[0m\u001b[1;33m\u001b[0m\u001b[0m\n\u001b[1;32m---> 13\u001b[1;33m \u001b[0mAPyC\u001b[0m\u001b[1;33m.\u001b[0m\u001b[0mPropagate\u001b[0m\u001b[1;33m(\u001b[0m\u001b[0mr0\u001b[0m\u001b[1;33m,\u001b[0m\u001b[0mv0\u001b[0m\u001b[1;33m,\u001b[0m\u001b[0mt0\u001b[0m\u001b[1;33m,\u001b[0m\u001b[0mtf\u001b[0m\u001b[1;33m)\u001b[0m\u001b[1;33m\u001b[0m\u001b[1;33m\u001b[0m\u001b[0m\n\u001b[0m\u001b[0;32m     14\u001b[0m \u001b[1;33m\u001b[0m\u001b[0m\n\u001b[0;32m     15\u001b[0m \u001b[1;31m#read data from textfile\u001b[0m\u001b[1;33m\u001b[0m\u001b[1;33m\u001b[0m\u001b[1;33m\u001b[0m\u001b[0m\n",
      "\u001b[1;31mNameError\u001b[0m: name 'APyC' is not defined"
     ]
    }
   ],
   "source": [
    "#LEO\n",
    "r0 = [6500, 0.0, 0.0];                                    # Initial Position (km)\n",
    "v0 = [0.0, 7.90882662, 0.0];                              # Initial Velocity (km/s)\n",
    "t0 = 0.0;                                                 # Initial Times (s)\n",
    "tf = 1.*5059.648765;                                     # Final Time (s)\n",
    "# #MEO\n",
    "# r0 = [9000.0, 0.0, 0.0];                                    # Initial Position (km)\n",
    "# v0 = [0.0, 6.7419845635570, 1.806509319188210];             # Initial Velocity (km/s)\n",
    "# t0 = 0.0;                                                   # Initial Times (s)\n",
    "# tf = 10*9.952014050491189e+03;                              # Final Time (s)\n",
    "\n",
    "#run APC code and save to textfile\n",
    "states = APyC.Propagate(r0,v0,t0,tf)\n",
    "\n",
    "#read data from textfile\n",
    "output = np.loadtxt('output.txt')\n",
    "ts = output[:,0]\n",
    "Xs = output[:,1:4]\n",
    "Vs = output[:,4:7]\n",
    "H = output[:,7]\n",
    "\n",
    "\n",
    "\"\"\"Plot topdown view\"\"\"\n",
    "trace2d = go.Scatter(x=Xs[:,0],y=Xs[:,1],mode = 'lines')\n",
    "fig2d = go.Figure(data=[trace2d])\n",
    "fig2d.update_layout(\n",
    "    #scene_aspectmode='data',\n",
    "    showlegend=False,\n",
    "    width = 800,\n",
    "    height = 800,\n",
    "    margin=dict(l=20, r=20, t=20, b=20))\n",
    "fig2d.show()\n",
    "\n",
    "\n",
    "# trace = go.Scatter3d(x=Xs[:,0],y=Xs[:,1],z=Xs[:,2],mode='lines',line=dict(color='red'))\n",
    "# trace2 = plot_sphere(6378,res=30)\n",
    "# fig = go.Figure(data=[trace, trace2])\n",
    "# fig.update_coloraxes(showscale=False)\n",
    "# fig.update_layout(\n",
    "#     scene_aspectmode='data',\n",
    "#     showlegend=False,\n",
    "#     width = 800,\n",
    "#     height = 800,\n",
    "#     margin=dict(l=20, r=20, t=20, b=20)\n",
    "# )\n",
    "# fig.show()"
   ]
  },
  {
   "cell_type": "code",
   "execution_count": 4,
   "metadata": {},
   "outputs": [],
   "source": [
    "from sys import platform"
   ]
  },
  {
   "cell_type": "code",
   "execution_count": 5,
   "metadata": {},
   "outputs": [
    {
     "name": "stdout",
     "output_type": "stream",
     "text": [
      "[[-0.7124219   6.70783188  1.78798073]\n",
      " [-0.85900957  6.69112268  1.7818903 ]\n",
      " [-1.00508818  6.67113288  1.77492578]\n",
      " ...\n",
      " [-1.081623    6.66600785  1.75632269]\n",
      " [-1.22695676  6.64194866  1.74669728]\n",
      " [-1.37158626  6.61464158  1.73621867]]\n"
     ]
    }
   ],
   "source": [
    "print(Vs)"
   ]
  }
 ],
 "metadata": {
  "interpreter": {
   "hash": "69a904da6b75d97a9efd6ce7445607deb5e1021c1bb81e5a4391199317e4e4d0"
  },
  "kernelspec": {
   "display_name": "Python 3.8.8 64-bit ('base': conda)",
   "language": "python",
   "name": "python3"
  },
  "language_info": {
   "codemirror_mode": {
    "name": "ipython",
    "version": 3
   },
   "file_extension": ".py",
   "mimetype": "text/x-python",
   "name": "python",
   "nbconvert_exporter": "python",
   "pygments_lexer": "ipython3",
   "version": "3.8.8"
  },
  "orig_nbformat": 4
 },
 "nbformat": 4,
 "nbformat_minor": 2
}
