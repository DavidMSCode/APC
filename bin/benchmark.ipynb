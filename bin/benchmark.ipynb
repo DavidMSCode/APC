{
 "cells": [
  {
   "cell_type": "code",
   "execution_count": null,
   "metadata": {},
   "outputs": [],
   "source": [
    "import APC\n",
    "import plotly.graph_objects as go"
   ]
  },
  {
   "cell_type": "code",
   "execution_count": null,
   "metadata": {},
   "outputs": [],
   "source": [
    "threads_list = [1,2,4,8,16]\n",
    "actual_threads = []\n",
    "normalized_times = []\n",
    "for i,max_threads in enumerate(threads_list):\n",
    "    pair = APC.Benchmark1000(max_threads)\n",
    "    if i==0:\n",
    "        t0 = pair[1]\n",
    "    actual_threads.append(pair[0])\n",
    "    normalized_times.append(pair[1]/t0)\n"
   ]
  },
  {
   "cell_type": "code",
   "execution_count": null,
   "metadata": {},
   "outputs": [],
   "source": [
    "trace = go.Scatter(x=actual_threads, y=normalized_times)\n",
    "fig = go.Figure(data=trace)\n",
    "fig.update_layout(title=\"Synthetic Benchmark Time vs. # of CPU Threads\",\n",
    "xaxis_title = \"# of CPU Threads\",\n",
    "yaxis_title = \"Normalized Time (s/s)\",\n",
    "yaxis=dict(range=[0,1.1])\n",
    ")\n",
    "fig.show()"
   ]
  }
 ],
 "metadata": {
  "interpreter": {
   "hash": "954d93875deac704dba7ad356958466ca6ab62675dc5f65d8eb8153770450085"
  },
  "kernelspec": {
   "display_name": "Python 3.8.12 ('python38')",
   "language": "python",
   "name": "python3"
  },
  "language_info": {
   "codemirror_mode": {
    "name": "ipython",
    "version": 3
   },
   "file_extension": ".py",
   "mimetype": "text/x-python",
   "name": "python",
   "nbconvert_exporter": "python",
   "pygments_lexer": "ipython3",
   "version": "3.8.2"
  },
  "orig_nbformat": 4
 },
 "nbformat": 4,
 "nbformat_minor": 2
}
